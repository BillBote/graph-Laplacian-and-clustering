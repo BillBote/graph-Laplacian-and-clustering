{
 "cells": [
  {
   "cell_type": "code",
   "execution_count": 1,
   "metadata": {},
   "outputs": [],
   "source": [
    "import cvxpy as cp\n",
    "import numpy as np\n",
    "from foldLine import data,x,y,z\n",
    "import matplotlib.pyplot as plt\n",
    "from mpl_toolkits.mplot3d import Axes3D\n",
    "from conowlLocal import neighborhood\n",
    "from kMeans import kMeans, min_k_index, max_k_index\n",
    "from copy import deepcopy"
   ]
  },
  {
   "cell_type": "code",
   "execution_count": 2,
   "metadata": {},
   "outputs": [],
   "source": [
    "n_sample=len(data[0])\n",
    "n_feature=len(data)"
   ]
  },
  {
   "cell_type": "code",
   "execution_count": 3,
   "metadata": {},
   "outputs": [],
   "source": [
    "K=100\n",
    "epsilon=1"
   ]
  },
  {
   "cell_type": "code",
   "execution_count": 4,
   "metadata": {},
   "outputs": [],
   "source": [
    "indexs=np.random.choice(range(n_feature),K)\n",
    "B=np.zeros((n_feature,n_feature))\n",
    "I=[]\n",
    "for i in range(n_feature):\n",
    "    I.append(i)"
   ]
  },
  {
   "cell_type": "code",
   "execution_count": 5,
   "metadata": {},
   "outputs": [],
   "source": [
    "def owl(beta):\n",
    "    z = 0.001 * cp.norm1(beta) #lambda\n",
    "    for i in range(1,90): #r\n",
    "        z = z+cp.sum_largest(beta, i)*0.5 #delta\n",
    "    return z\n",
    "\n",
    "def loss_fn(X, Y, beta):\n",
    "    return cp.norm2(cp.matmul(X, beta) - Y)**2\n",
    "\n",
    "def regularizer(beta):\n",
    "    return cp.norm1(beta)\n",
    "\n",
    "def objective_fn(X, Y, beta, lambd):\n",
    "    return loss_fn(X, Y, beta) + lambd * regularizer(beta)\n",
    "\n",
    "def mse(X, Y, beta):\n",
    "    return (1.0 / X.shape[0]) * loss_fn(X, Y, beta).value\n",
    "\n",
    "def objective_f1(X, Y, beta):\n",
    "    return loss_fn(X, Y, beta) + owl(beta)"
   ]
  },
  {
   "cell_type": "code",
   "execution_count": 6,
   "metadata": {},
   "outputs": [
    {
     "ename": "TypeError",
     "evalue": "'NoneType' object is not subscriptable",
     "output_type": "error",
     "traceback": [
      "\u001b[1;31m---------------------------------------------------------------------------\u001b[0m",
      "\u001b[1;31mTypeError\u001b[0m                                 Traceback (most recent call last)",
      "\u001b[1;32m<ipython-input-6-2e0e416ce649>\u001b[0m in \u001b[0;36m<module>\u001b[1;34m\u001b[0m\n\u001b[0;32m     13\u001b[0m     \u001b[0mcoef\u001b[0m \u001b[1;33m=\u001b[0m \u001b[0mbeta\u001b[0m\u001b[1;33m.\u001b[0m\u001b[0mvalue\u001b[0m\u001b[1;33m\u001b[0m\u001b[1;33m\u001b[0m\u001b[0m\n\u001b[0;32m     14\u001b[0m     \u001b[1;32mfor\u001b[0m \u001b[0mi\u001b[0m \u001b[1;32min\u001b[0m \u001b[0mrange\u001b[0m\u001b[1;33m(\u001b[0m\u001b[0mn1\u001b[0m\u001b[1;33m)\u001b[0m\u001b[1;33m:\u001b[0m\u001b[1;33m\u001b[0m\u001b[1;33m\u001b[0m\u001b[0m\n\u001b[1;32m---> 15\u001b[1;33m         \u001b[0mB\u001b[0m\u001b[1;33m[\u001b[0m\u001b[0mkIndex\u001b[0m\u001b[1;33m[\u001b[0m\u001b[0mi\u001b[0m\u001b[1;33m]\u001b[0m\u001b[1;33m,\u001b[0m\u001b[0mindex\u001b[0m\u001b[1;33m]\u001b[0m\u001b[1;33m=\u001b[0m\u001b[0mcoef\u001b[0m\u001b[1;33m[\u001b[0m\u001b[0mi\u001b[0m\u001b[1;33m]\u001b[0m\u001b[1;33m\u001b[0m\u001b[1;33m\u001b[0m\u001b[0m\n\u001b[0m",
      "\u001b[1;31mTypeError\u001b[0m: 'NoneType' object is not subscriptable"
     ]
    }
   ],
   "source": [
    "for index in indexs:\n",
    "    kIndex = neighborhood(data[index],data,epsilon)\n",
    "    n1 = len(kIndex)\n",
    "    X = np.zeros((n_sample,n1))\n",
    "    for i in range(n1):\n",
    "        X[:,i]=data[kIndex[i]]\n",
    "    Y = np.array(data[index])\n",
    "    #c = np.ones(n1)\n",
    "    beta = cp.Variable(n1)\n",
    "    #constraints = [c*beta==1]\n",
    "    problem = cp.Problem(cp.Minimize(objective_f1(X, Y, beta)))\n",
    "    problem.solve()\n",
    "    coef = beta.value\n",
    "    for i in range(n1):\n",
    "        B[kIndex[i],index]=coef[i]"
   ]
  },
  {
   "cell_type": "code",
   "execution_count": null,
   "metadata": {},
   "outputs": [],
   "source": [
    "\"\"\"\n",
    "beta = cp.Variable(n)\n",
    "lambd = cp.Parameter(nonneg=True)\n",
    "constraints = [c*beta==1]\n",
    "problem = cp.Problem(cp.Minimize(objective_fn(X_train, Y_train, beta, lambd)))\n",
    "\n",
    "lambd_values = np.logspace(-2, 3, 50)\n",
    "train_errors = []\n",
    "test_errors = []\n",
    "beta_values = []\n",
    "for v in lambd_values:\n",
    "    lambd.value = v\n",
    "    problem.solve()\n",
    "    train_errors.append(mse(X_train, Y_train, beta))\n",
    "    test_errors.append(mse(X_test, Y_test, beta))\n",
    "    beta_values.append(beta.value)\n",
    "\"\"\""
   ]
  },
  {
   "cell_type": "code",
   "execution_count": null,
   "metadata": {},
   "outputs": [],
   "source": [
    "nonzero=[]\n",
    "for index in range(n_feature):\n",
    "    nonzero.append(np.count_nonzero(B[:,index]))\n",
    "nonzero_idx=[]\n",
    "for i in range(n_feature):\n",
    "    if nonzero[i]!=0:\n",
    "        nonzero_idx.append(i)\n",
    "\n",
    "max(nonzero)\n",
    "nonzero"
   ]
  },
  {
   "cell_type": "code",
   "execution_count": null,
   "metadata": {},
   "outputs": [],
   "source": [
    "\"\"\"\n",
    "for i in range(len(nonzero_idx)):\n",
    "    index=nonzero_idx[i]\n",
    "    n=nonzero[index]\n",
    "    idx=[]\n",
    "    for i in range(1,n+1):\n",
    "        idx.append(max_k_index(B[:,index],i))\n",
    "    ax=plt.subplot(111)\n",
    "    ax.scatter(y,z,color='yellow')\n",
    "    ax.scatter(y[index],z[index],color='red')\n",
    "    for i in range(n):\n",
    "        ax.scatter(y[idx[i]],z[idx[i]],color='black')\n",
    "    plt.show()\n",
    "\"\"\""
   ]
  },
  {
   "cell_type": "code",
   "execution_count": null,
   "metadata": {},
   "outputs": [],
   "source": [
    "for i in range(len(nonzero_idx)):\n",
    "    plt.vlines(400,min(B[:,nonzero_idx[i]]),max(B[:,nonzero_idx[i]]),color='c',linestyles='dashed')\n",
    "    plt.vlines(1400,min(B[:,nonzero_idx[i]]),max(B[:,nonzero_idx[i]]),color='c',linestyles='dashed')\n",
    "    plt.scatter(range(1800),B[:,nonzero_idx[i]])\n",
    "    plt.scatter(nonzero_idx[i],0,color='red')\n",
    "    plt.show()"
   ]
  },
  {
   "cell_type": "code",
   "execution_count": null,
   "metadata": {},
   "outputs": [],
   "source": [
    "for i in range(len(nonzero_idx)):\n",
    "    idx=[]\n",
    "    for j in range(1,9):\n",
    "        idx.append(max_k_index(B[:,nonzero_idx[i]],j))\n",
    "    colour=['midnightblue','blue','mediumslateblue','dodgerblue','deepskyblue','lightskyblue','powderblue','lightblue']\n",
    "    ax=plt.subplot(111)\n",
    "    ax.scatter(y,z,color='yellow')\n",
    "    ax.scatter(y[nonzero_idx[i]],z[nonzero_idx[i]],color='red')\n",
    "    for j in range(8):\n",
    "        ax.scatter(y[idx[j]],z[idx[j]],color=colour[j])\n",
    "    plt.show()"
   ]
  },
  {
   "cell_type": "code",
   "execution_count": null,
   "metadata": {},
   "outputs": [],
   "source": [
    "index=nonzero_idx[12]\n",
    "idx=[]\n",
    "for j in range(1,9):\n",
    "    idx.append(max_k_index(B[:,index],j))\n",
    "colour=['midnightblue','blue','mediumslateblue','dodgerblue','deepskyblue','lightskyblue','powderblue','lightblue']\n",
    "ax=plt.subplot(111)\n",
    "ax.scatter(y,z,color='yellow')\n",
    "ax.scatter(y[index],z[index],color='red')\n",
    "for i in range(8):\n",
    "    ax.scatter(y[idx[i]],z[idx[i]],color=colour[i])"
   ]
  },
  {
   "cell_type": "code",
   "execution_count": null,
   "metadata": {},
   "outputs": [],
   "source": [
    "sorted(B[:,nonzero_idx[5]],reverse=True)"
   ]
  },
  {
   "cell_type": "code",
   "execution_count": null,
   "metadata": {},
   "outputs": [],
   "source": []
  },
  {
   "cell_type": "code",
   "execution_count": null,
   "metadata": {},
   "outputs": [],
   "source": [
    "for index in indexs:\n",
    "    kIndex = deepcopy(I)\n",
    "    kIndex.remove(index)\n",
    "    n1 = len(kIndex)\n",
    "    X = np.zeros((n_sample,n1))\n",
    "    for i in range(n1):\n",
    "        X[:,i]=data[kIndex[i]]\n",
    "    Y = np.array(data[index])\n",
    "    c = np.ones(n1)\n",
    "    beta = cp.Variable(n1)\n",
    "    #lambd = cp.Parameter(nonneg=True)\n",
    "    #t = cp.Parameter(nonneg=True)\n",
    "    constraints = [c*beta==1]\n",
    "    problem = cp.Problem(cp.Minimize(objective_f1(X, Y, beta)),constraints)\n",
    "    #lambd.value = 0.1\n",
    "    #t.value=0.15\n",
    "    problem.solve()\n",
    "    coef = beta.value\n",
    "    for i in range(n1):\n",
    "        B[kIndex[i],index]=coef[i]"
   ]
  }
 ],
 "metadata": {
  "kernelspec": {
   "display_name": "Python 3",
   "language": "python",
   "name": "python3"
  },
  "language_info": {
   "codemirror_mode": {
    "name": "ipython",
    "version": 3
   },
   "file_extension": ".py",
   "mimetype": "text/x-python",
   "name": "python",
   "nbconvert_exporter": "python",
   "pygments_lexer": "ipython3",
   "version": "3.7.4"
  }
 },
 "nbformat": 4,
 "nbformat_minor": 2
}
